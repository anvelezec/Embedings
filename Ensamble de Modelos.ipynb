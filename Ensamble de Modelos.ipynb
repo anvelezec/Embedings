{
 "cells": [
  {
   "cell_type": "markdown",
   "metadata": {},
   "source": [
    "# Metodos de ensamble"
   ]
  },
  {
   "cell_type": "markdown",
   "metadata": {},
   "source": [
    "## Mayoria de votos simple"
   ]
  },
  {
   "cell_type": "code",
   "execution_count": 4,
   "metadata": {},
   "outputs": [
    {
     "name": "stdout",
     "output_type": "stream",
     "text": [
      "Resultado ensamble 1 = 0\n",
      "Resultado ensamble 2 = 1\n"
     ]
    }
   ],
   "source": [
    "import numpy as np\n",
    "\n",
    "# Distribcion equitativa de pesos \n",
    "ensamble1 = np.argmax(np.bincount([0, 0, 1],weights=[1, 1, 1]))\n",
    "   \n",
    "# Asigna clasificacion de acuerdo a distribucion de pesos\n",
    "ensamble2 = np.argmax(np.bincount([0, 0, 1],weights=[0.2, 0.2, 0.6]))\n",
    "\n",
    "print('Resultado ensamble 1' + ' = ' + str(ensamble1))\n",
    "print('Resultado ensamble 2' + ' = ' + str(ensamble2))\n",
    "\n",
    "# Pregunta: Que hace la funcion np.bincount ? "
   ]
  },
  {
   "cell_type": "code",
   "execution_count": 8,
   "metadata": {},
   "outputs": [
    {
     "name": "stdout",
     "output_type": "stream",
     "text": [
      "Resultado ensamble 3 = [ 0.58  0.42]\n"
     ]
    }
   ],
   "source": [
    "# Vector de probabilidades\n",
    "vectors = np.array([[0.9, 0.1], [0.8, 0.2],[0.4, 0.6]])\n",
    "\n",
    "# Asigna clasificacion de acuerdo a disttribucion de pesos\n",
    "ensamble3 = np.average(vectors, axis=0, weights=[0.2, 0.2, 0.6]) \n",
    "\n",
    "print('Resultado ensamble 3' + ' = ' + str(ensamble3))\n",
    "\n",
    "# Pregunta: Como opera el emsamble 3 ? "
   ]
  },
  {
   "cell_type": "markdown",
   "metadata": {},
   "source": [
    "## Mayoria de votos multiples modelos"
   ]
  },
  {
   "cell_type": "code",
   "execution_count": 9,
   "metadata": {},
   "outputs": [
    {
     "name": "stderr",
     "output_type": "stream",
     "text": [
      "C:\\Users\\Andres\\Anaconda3\\lib\\site-packages\\sklearn\\cross_validation.py:41: DeprecationWarning: This module was deprecated in version 0.18 in favor of the model_selection module into which all the refactored classes and functions are moved. Also note that the interface of the new CV iterators are different from that of this module. This module will be removed in 0.20.\n",
      "  \"This module will be removed in 0.20.\", DeprecationWarning)\n"
     ]
    }
   ],
   "source": [
    "# Importando librerias\n",
    "from sklearn import datasets\n",
    "from sklearn.cross_validation import train_test_split \n",
    "from sklearn.preprocessing import StandardScaler \n",
    "from sklearn.preprocessing import LabelEncoder \n",
    "from MajorityVoteClassifier import MajorityVoteClassifier\n",
    "\n",
    "\n",
    "from sklearn.cross_validation import cross_val_score \n",
    "from sklearn.linear_model import LogisticRegression \n",
    "from sklearn.tree import DecisionTreeClassifier \n",
    "from sklearn.neighbors import KNeighborsClassifier \n",
    "from sklearn.pipeline import Pipeline \n",
    "import numpy as np"
   ]
  },
  {
   "cell_type": "code",
   "execution_count": 11,
   "metadata": {
    "collapsed": true
   },
   "outputs": [],
   "source": [
    "# Importando informacion\n",
    "iris = datasets.load_iris()\n",
    "X, y = iris.data[50:, [1, 2]], iris.target[50:] \n",
    "le = LabelEncoder() \n",
    "y = le.fit_transform(y)\n",
    "\n",
    "X_train, X_test, y_train, y_test = train_test_split(X, y,test_size=0.5,random_state=1)"
   ]
  },
  {
   "cell_type": "code",
   "execution_count": 24,
   "metadata": {
    "collapsed": true
   },
   "outputs": [],
   "source": [
    "# Intanciando modelos\n",
    "clf1 = LogisticRegression(penalty='l2', C=0.001, random_state=0) \n",
    "\n",
    "clf2 = DecisionTreeClassifier(max_depth=1, criterion='entropy',random_state=0)\n",
    "\n",
    "clf3 = KNeighborsClassifier(n_neighbors=1, p=2,metric='minkowski')\n",
    "\n",
    "# Pregunta: Porque distancia de minkowski con p = 2 ?\n"
   ]
  },
  {
   "cell_type": "code",
   "execution_count": 25,
   "metadata": {},
   "outputs": [
    {
     "name": "stdout",
     "output_type": "stream",
     "text": [
      "10-fold cross validation:\n",
      "\n"
     ]
    }
   ],
   "source": [
    "# Intanciando modelos\n",
    "\n",
    "pipe1 = Pipeline([['sc', StandardScaler()],['clf', clf1]])\n",
    "pipe3 = Pipeline([['sc', StandardScaler()],['clf', clf3]])\n",
    "\n",
    "clf_labels = ['Logistic Regression', 'Decision Tree', 'KNN'] \n",
    "\n",
    "print('10-fold cross validation:\\n')\n",
    "\n",
    "# Pregunta: Que hace el proceso StandardScaler ?"
   ]
  },
  {
   "cell_type": "code",
   "execution_count": 32,
   "metadata": {},
   "outputs": [
    {
     "name": "stdout",
     "output_type": "stream",
     "text": [
      "ROC AUC: 0.92 (+/- 0.20) [Logistic Regression]\n",
      "ROC AUC: 0.92 (+/- 0.15) [Decision Tree]\n",
      "ROC AUC: 0.93 (+/- 0.10) [KNN]\n"
     ]
    }
   ],
   "source": [
    "# Estimando resultados\n",
    "\n",
    "for clf, label in zip([pipe1, clf2, pipe3], clf_labels): \n",
    "    scores = cross_val_score(estimator=clf,X=X_train, y=y_train,cv=10,scoring='roc_auc')\n",
    "    print(\"ROC AUC: %0.2f (+/- %0.2f) [%s]\"\n",
    "          % (scores.mean(), scores.std(), label))\n",
    "\n",
    "# Pregunta: Que hace la funcion cross_val_score ?"
   ]
  },
  {
   "cell_type": "code",
   "execution_count": null,
   "metadata": {
    "collapsed": true
   },
   "outputs": [],
   "source": [
    "# Evaluacion de clasificadores tomando test data\n",
    "\n",
    "...\n"
   ]
  },
  {
   "cell_type": "code",
   "execution_count": 30,
   "metadata": {},
   "outputs": [
    {
     "name": "stdout",
     "output_type": "stream",
     "text": [
      "Accuracy: 0.92 (+/- 0.20) [Logistic Regression]\n",
      "Accuracy: 0.92 (+/- 0.15) [Decision Tree]\n",
      "Accuracy: 0.93 (+/- 0.10) [KNN]\n",
      "Accuracy: 0.97 (+/- 0.10) [Majority Voting]\n"
     ]
    }
   ],
   "source": [
    "# Estimando resultados\n",
    "\n",
    "mv_clf = MajorityVoteClassifier(classifiers=[pipe1, clf2, pipe3])\n",
    "\n",
    "clf_labels += ['Majority Voting'] \n",
    "all_clf = [pipe1, clf2, pipe3, mv_clf] \n",
    "for clf, label in zip(all_clf, clf_labels): \n",
    "    scores = cross_val_score(estimator=clf,X=X_train, y=y_train,cv=10,scoring='roc_auc')\n",
    "    print(\"Accuracy: %0.2f (+/- %0.2f) [%s]\"\n",
    "          % (scores.mean(), scores.std(), label)) "
   ]
  },
  {
   "cell_type": "code",
   "execution_count": null,
   "metadata": {
    "collapsed": true
   },
   "outputs": [],
   "source": [
    "# Evaluacion de clasificadores tomando test data\n",
    "\n",
    "...\n"
   ]
  },
  {
   "cell_type": "code",
   "execution_count": 34,
   "metadata": {},
   "outputs": [
    {
     "data": {
      "image/png": "[encoded data removed]",
      "text/plain": [
       "<matplotlib.figure.Figure at 0x16f7ff655f8>"
      ]
     },
     "metadata": {},
     "output_type": "display_data"
    }
   ],
   "source": [
    "# Evaluando y ajustando el clasificador\n",
    "\n",
    "from sklearn.metrics import roc_curve \n",
    "from sklearn.metrics import auc \n",
    "import matplotlib.pyplot  as plt\n",
    "\n",
    "colors = ['black', 'orange', 'blue', 'green'] \n",
    "linestyles = [':', '--', '-.', '-'] \n",
    "for clf, label, clr, ls in zip(all_clf, clf_labels, colors, linestyles):\n",
    "\n",
    "    # assuming the label of the positive class is 1\n",
    "    y_pred = clf.fit(X_train,y_train).predict_proba(X_test)[:, 1]\n",
    "    fpr, tpr, thresholds = roc_curve(y_true=y_test,\n",
    "                                     y_score=y_pred)\n",
    "    roc_auc = auc(x=fpr, y=tpr)\n",
    "    plt.plot(fpr, tpr,\n",
    "             color=clr,linestyle=ls,label='%s (auc = %0.2f)' % (label, roc_auc))\n",
    "    \n",
    "plt.legend(loc='lower right')\n",
    "plt.plot([0, 1], [0, 1],linestyle='--', color='gray',linewidth=2)\n",
    "plt.xlim([-0.1, 1.1]) \n",
    "plt.ylim([-0.1, 1.1]) \n",
    "plt.grid()\n",
    "plt.xlabel('False Positive Rate') \n",
    "plt.ylabel('True Positive Rate') \n",
    "plt.show()"
   ]
  },
  {
   "cell_type": "markdown",
   "metadata": {},
   "source": [
    "# Referencias\n",
    "* Raschka, Sebastian. 2015. 22 Bangladesh Journal of Plant Taxonomy Python Machine Learning Unlock.\n",
    "* https://scikit-learn.org/stable/"
   ]
  }
 ],
 "metadata": {
  "kernelspec": {
   "display_name": "Python 3",
   "language": "python",
   "name": "python3"
  },
  "language_info": {
   "codemirror_mode": {
    "name": "ipython",
    "version": 3
   },
   "file_extension": ".py",
   "mimetype": "text/x-python",
   "name": "python",
   "nbconvert_exporter": "python",
   "pygments_lexer": "ipython3",
   "version": "3.6.3"
  }
 },
 "nbformat": 4,
 "nbformat_minor": 2
}
